{
 "cells": [
  {
   "cell_type": "code",
   "execution_count": 1,
   "metadata": {},
   "outputs": [],
   "source": [
    "import pandas as pd\n",
    "import numpy as np\n",
    "import matplotlib.pyplot as plt\n",
    "import seaborn as sns\n",
    "%matplotlib inline"
   ]
  },
  {
   "cell_type": "code",
   "execution_count": 2,
   "metadata": {},
   "outputs": [],
   "source": [
    "df = pd.read_csv(\"cric.csv\" ,encoding = \"ISO-8859-1\")"
   ]
  },
  {
   "cell_type": "code",
   "execution_count": 3,
   "metadata": {
    "scrolled": false
   },
   "outputs": [
    {
     "name": "stdout",
     "output_type": "stream",
     "text": [
      "<class 'pandas.core.frame.DataFrame'>\n",
      "RangeIndex: 100 entries, 0 to 99\n",
      "Data columns (total 15 columns):\n",
      " #   Column      Non-Null Count  Dtype  \n",
      "---  ------      --------------  -----  \n",
      " 0   POS         100 non-null    int64  \n",
      " 1   PLAYER      100 non-null    object \n",
      " 2   Mat         100 non-null    int64  \n",
      " 3   Inns        100 non-null    int64  \n",
      " 4   NO          100 non-null    int64  \n",
      " 5   Runs        100 non-null    int64  \n",
      " 6   HS          100 non-null    int64  \n",
      " 7   Avg         100 non-null    object \n",
      " 8   BF          100 non-null    int64  \n",
      " 9   SR          100 non-null    float64\n",
      " 10  HUNDREDS    100 non-null    int64  \n",
      " 11  FIFTY       100 non-null    int64  \n",
      " 12  Fours       100 non-null    int64  \n",
      " 13  Six         100 non-null    int64  \n",
      " 14  HS_not_out  100 non-null    object \n",
      "dtypes: float64(1), int64(11), object(3)\n",
      "memory usage: 10.6+ KB\n"
     ]
    }
   ],
   "source": [
    "df.info()"
   ]
  },
  {
   "cell_type": "code",
   "execution_count": 4,
   "metadata": {},
   "outputs": [
    {
     "data": {
      "text/plain": [
       "POS           0\n",
       "PLAYER        0\n",
       "Mat           0\n",
       "Inns          0\n",
       "NO            0\n",
       "Runs          0\n",
       "HS            0\n",
       "Avg           0\n",
       "BF            0\n",
       "SR            0\n",
       "HUNDREDS      0\n",
       "FIFTY         0\n",
       "Fours         0\n",
       "Six           0\n",
       "HS_not_out    0\n",
       "dtype: int64"
      ]
     },
     "execution_count": 4,
     "metadata": {},
     "output_type": "execute_result"
    }
   ],
   "source": [
    "df.isnull().sum()"
   ]
  },
  {
   "cell_type": "code",
   "execution_count": 5,
   "metadata": {},
   "outputs": [
    {
     "data": {
      "text/html": [
       "<div>\n",
       "<style scoped>\n",
       "    .dataframe tbody tr th:only-of-type {\n",
       "        vertical-align: middle;\n",
       "    }\n",
       "\n",
       "    .dataframe tbody tr th {\n",
       "        vertical-align: top;\n",
       "    }\n",
       "\n",
       "    .dataframe thead th {\n",
       "        text-align: right;\n",
       "    }\n",
       "</style>\n",
       "<table border=\"1\" class=\"dataframe\">\n",
       "  <thead>\n",
       "    <tr style=\"text-align: right;\">\n",
       "      <th></th>\n",
       "      <th>POS</th>\n",
       "      <th>PLAYER</th>\n",
       "      <th>Mat</th>\n",
       "      <th>Inns</th>\n",
       "      <th>NO</th>\n",
       "      <th>Runs</th>\n",
       "      <th>HS</th>\n",
       "      <th>Avg</th>\n",
       "      <th>BF</th>\n",
       "      <th>SR</th>\n",
       "      <th>HUNDREDS</th>\n",
       "      <th>FIFTY</th>\n",
       "      <th>Fours</th>\n",
       "      <th>Six</th>\n",
       "      <th>HS_not_out</th>\n",
       "    </tr>\n",
       "  </thead>\n",
       "  <tbody>\n",
       "    <tr>\n",
       "      <th>81</th>\n",
       "      <td>82</td>\n",
       "      <td>Harpreet_Brar</td>\n",
       "      <td>2</td>\n",
       "      <td>1</td>\n",
       "      <td>1</td>\n",
       "      <td>20</td>\n",
       "      <td>20</td>\n",
       "      <td>-</td>\n",
       "      <td>12</td>\n",
       "      <td>166.66</td>\n",
       "      <td>0</td>\n",
       "      <td>0</td>\n",
       "      <td>2</td>\n",
       "      <td>1</td>\n",
       "      <td>20*</td>\n",
       "    </tr>\n",
       "    <tr>\n",
       "      <th>87</th>\n",
       "      <td>88</td>\n",
       "      <td>Alzarri_Joseph</td>\n",
       "      <td>3</td>\n",
       "      <td>2</td>\n",
       "      <td>2</td>\n",
       "      <td>15</td>\n",
       "      <td>15</td>\n",
       "      <td>-</td>\n",
       "      <td>13</td>\n",
       "      <td>115.38</td>\n",
       "      <td>0</td>\n",
       "      <td>0</td>\n",
       "      <td>2</td>\n",
       "      <td>0</td>\n",
       "      <td>15*</td>\n",
       "    </tr>\n",
       "    <tr>\n",
       "      <th>96</th>\n",
       "      <td>97</td>\n",
       "      <td>Ishant_Sharma</td>\n",
       "      <td>13</td>\n",
       "      <td>3</td>\n",
       "      <td>3</td>\n",
       "      <td>10</td>\n",
       "      <td>10</td>\n",
       "      <td>-</td>\n",
       "      <td>3</td>\n",
       "      <td>333.33</td>\n",
       "      <td>0</td>\n",
       "      <td>0</td>\n",
       "      <td>1</td>\n",
       "      <td>1</td>\n",
       "      <td>10*</td>\n",
       "    </tr>\n",
       "    <tr>\n",
       "      <th>99</th>\n",
       "      <td>100</td>\n",
       "      <td>Tim_Southee</td>\n",
       "      <td>3</td>\n",
       "      <td>1</td>\n",
       "      <td>1</td>\n",
       "      <td>9</td>\n",
       "      <td>9</td>\n",
       "      <td>-</td>\n",
       "      <td>9</td>\n",
       "      <td>100.00</td>\n",
       "      <td>0</td>\n",
       "      <td>0</td>\n",
       "      <td>0</td>\n",
       "      <td>0</td>\n",
       "      <td>9*</td>\n",
       "    </tr>\n",
       "  </tbody>\n",
       "</table>\n",
       "</div>"
      ],
      "text/plain": [
       "    POS          PLAYER  Mat  Inns  NO  Runs  HS Avg  BF      SR  HUNDREDS  \\\n",
       "81   82   Harpreet_Brar    2     1   1    20  20   -  12  166.66         0   \n",
       "87   88  Alzarri_Joseph    3     2   2    15  15   -  13  115.38         0   \n",
       "96   97   Ishant_Sharma   13     3   3    10  10   -   3  333.33         0   \n",
       "99  100     Tim_Southee    3     1   1     9   9   -   9  100.00         0   \n",
       "\n",
       "    FIFTY  Fours  Six HS_not_out  \n",
       "81      0      2    1        20*  \n",
       "87      0      2    0        15*  \n",
       "96      0      1    1        10*  \n",
       "99      0      0    0         9*  "
      ]
     },
     "execution_count": 5,
     "metadata": {},
     "output_type": "execute_result"
    }
   ],
   "source": [
    "df[df[\"Avg\"]== \"-\"] "
   ]
  },
  {
   "cell_type": "code",
   "execution_count": 6,
   "metadata": {},
   "outputs": [],
   "source": [
    "df.replace('-',1,inplace=True)"
   ]
  },
  {
   "cell_type": "code",
   "execution_count": 7,
   "metadata": {},
   "outputs": [
    {
     "data": {
      "text/html": [
       "<div>\n",
       "<style scoped>\n",
       "    .dataframe tbody tr th:only-of-type {\n",
       "        vertical-align: middle;\n",
       "    }\n",
       "\n",
       "    .dataframe tbody tr th {\n",
       "        vertical-align: top;\n",
       "    }\n",
       "\n",
       "    .dataframe thead th {\n",
       "        text-align: right;\n",
       "    }\n",
       "</style>\n",
       "<table border=\"1\" class=\"dataframe\">\n",
       "  <thead>\n",
       "    <tr style=\"text-align: right;\">\n",
       "      <th></th>\n",
       "      <th>POS</th>\n",
       "      <th>PLAYER</th>\n",
       "      <th>Mat</th>\n",
       "      <th>Inns</th>\n",
       "      <th>NO</th>\n",
       "      <th>Runs</th>\n",
       "      <th>HS</th>\n",
       "      <th>Avg</th>\n",
       "      <th>BF</th>\n",
       "      <th>SR</th>\n",
       "      <th>HUNDREDS</th>\n",
       "      <th>FIFTY</th>\n",
       "      <th>Fours</th>\n",
       "      <th>Six</th>\n",
       "      <th>HS_not_out</th>\n",
       "    </tr>\n",
       "  </thead>\n",
       "  <tbody>\n",
       "  </tbody>\n",
       "</table>\n",
       "</div>"
      ],
      "text/plain": [
       "Empty DataFrame\n",
       "Columns: [POS, PLAYER, Mat, Inns, NO, Runs, HS, Avg, BF, SR, HUNDREDS, FIFTY, Fours, Six, HS_not_out]\n",
       "Index: []"
      ]
     },
     "execution_count": 7,
     "metadata": {},
     "output_type": "execute_result"
    }
   ],
   "source": [
    "df[df[\"Avg\"]== \"-\"] "
   ]
  },
  {
   "cell_type": "code",
   "execution_count": 8,
   "metadata": {
    "scrolled": true
   },
   "outputs": [
    {
     "data": {
      "text/html": [
       "<div>\n",
       "<style scoped>\n",
       "    .dataframe tbody tr th:only-of-type {\n",
       "        vertical-align: middle;\n",
       "    }\n",
       "\n",
       "    .dataframe tbody tr th {\n",
       "        vertical-align: top;\n",
       "    }\n",
       "\n",
       "    .dataframe thead th {\n",
       "        text-align: right;\n",
       "    }\n",
       "</style>\n",
       "<table border=\"1\" class=\"dataframe\">\n",
       "  <thead>\n",
       "    <tr style=\"text-align: right;\">\n",
       "      <th></th>\n",
       "      <th>POS</th>\n",
       "      <th>PLAYER</th>\n",
       "      <th>Mat</th>\n",
       "      <th>Inns</th>\n",
       "      <th>NO</th>\n",
       "      <th>Runs</th>\n",
       "      <th>HS</th>\n",
       "      <th>Avg</th>\n",
       "      <th>BF</th>\n",
       "      <th>SR</th>\n",
       "      <th>HUNDREDS</th>\n",
       "      <th>FIFTY</th>\n",
       "      <th>Fours</th>\n",
       "      <th>Six</th>\n",
       "      <th>HS_not_out</th>\n",
       "    </tr>\n",
       "  </thead>\n",
       "  <tbody>\n",
       "    <tr>\n",
       "      <th>0</th>\n",
       "      <td>1</td>\n",
       "      <td>David_Warner</td>\n",
       "      <td>12</td>\n",
       "      <td>12</td>\n",
       "      <td>2</td>\n",
       "      <td>692</td>\n",
       "      <td>100</td>\n",
       "      <td>69.2</td>\n",
       "      <td>481</td>\n",
       "      <td>143.86</td>\n",
       "      <td>1</td>\n",
       "      <td>8</td>\n",
       "      <td>57</td>\n",
       "      <td>21</td>\n",
       "      <td>100*</td>\n",
       "    </tr>\n",
       "    <tr>\n",
       "      <th>1</th>\n",
       "      <td>2</td>\n",
       "      <td>KL_Rahul</td>\n",
       "      <td>14</td>\n",
       "      <td>14</td>\n",
       "      <td>3</td>\n",
       "      <td>593</td>\n",
       "      <td>100</td>\n",
       "      <td>53.9</td>\n",
       "      <td>438</td>\n",
       "      <td>135.38</td>\n",
       "      <td>1</td>\n",
       "      <td>6</td>\n",
       "      <td>49</td>\n",
       "      <td>25</td>\n",
       "      <td>100*</td>\n",
       "    </tr>\n",
       "    <tr>\n",
       "      <th>2</th>\n",
       "      <td>3</td>\n",
       "      <td>Quinton_de_Kock</td>\n",
       "      <td>16</td>\n",
       "      <td>16</td>\n",
       "      <td>1</td>\n",
       "      <td>529</td>\n",
       "      <td>81</td>\n",
       "      <td>35.26</td>\n",
       "      <td>398</td>\n",
       "      <td>132.91</td>\n",
       "      <td>0</td>\n",
       "      <td>4</td>\n",
       "      <td>45</td>\n",
       "      <td>25</td>\n",
       "      <td>81</td>\n",
       "    </tr>\n",
       "    <tr>\n",
       "      <th>3</th>\n",
       "      <td>4</td>\n",
       "      <td>Shikhar_Dhawan</td>\n",
       "      <td>16</td>\n",
       "      <td>16</td>\n",
       "      <td>1</td>\n",
       "      <td>521</td>\n",
       "      <td>97</td>\n",
       "      <td>34.73</td>\n",
       "      <td>384</td>\n",
       "      <td>135.67</td>\n",
       "      <td>0</td>\n",
       "      <td>5</td>\n",
       "      <td>64</td>\n",
       "      <td>11</td>\n",
       "      <td>97*</td>\n",
       "    </tr>\n",
       "    <tr>\n",
       "      <th>4</th>\n",
       "      <td>5</td>\n",
       "      <td>Andre_Russell</td>\n",
       "      <td>14</td>\n",
       "      <td>13</td>\n",
       "      <td>4</td>\n",
       "      <td>510</td>\n",
       "      <td>80</td>\n",
       "      <td>56.66</td>\n",
       "      <td>249</td>\n",
       "      <td>204.81</td>\n",
       "      <td>0</td>\n",
       "      <td>4</td>\n",
       "      <td>31</td>\n",
       "      <td>52</td>\n",
       "      <td>80*</td>\n",
       "    </tr>\n",
       "  </tbody>\n",
       "</table>\n",
       "</div>"
      ],
      "text/plain": [
       "   POS           PLAYER  Mat  Inns  NO  Runs   HS    Avg   BF      SR  \\\n",
       "0    1     David_Warner   12    12   2   692  100   69.2  481  143.86   \n",
       "1    2         KL_Rahul   14    14   3   593  100   53.9  438  135.38   \n",
       "2    3  Quinton_de_Kock   16    16   1   529   81  35.26  398  132.91   \n",
       "3    4   Shikhar_Dhawan   16    16   1   521   97  34.73  384  135.67   \n",
       "4    5    Andre_Russell   14    13   4   510   80  56.66  249  204.81   \n",
       "\n",
       "   HUNDREDS  FIFTY  Fours  Six HS_not_out  \n",
       "0         1      8     57   21       100*  \n",
       "1         1      6     49   25       100*  \n",
       "2         0      4     45   25         81  \n",
       "3         0      5     64   11        97*  \n",
       "4         0      4     31   52        80*  "
      ]
     },
     "execution_count": 8,
     "metadata": {},
     "output_type": "execute_result"
    }
   ],
   "source": [
    "df.head()"
   ]
  },
  {
   "cell_type": "code",
   "execution_count": 9,
   "metadata": {},
   "outputs": [
    {
     "name": "stdout",
     "output_type": "stream",
     "text": [
      "<class 'pandas.core.frame.DataFrame'>\n",
      "RangeIndex: 100 entries, 0 to 99\n",
      "Data columns (total 15 columns):\n",
      " #   Column      Non-Null Count  Dtype  \n",
      "---  ------      --------------  -----  \n",
      " 0   POS         100 non-null    int64  \n",
      " 1   PLAYER      100 non-null    object \n",
      " 2   Mat         100 non-null    int64  \n",
      " 3   Inns        100 non-null    int64  \n",
      " 4   NO          100 non-null    int64  \n",
      " 5   Runs        100 non-null    int64  \n",
      " 6   HS          100 non-null    int64  \n",
      " 7   Avg         100 non-null    object \n",
      " 8   BF          100 non-null    int64  \n",
      " 9   SR          100 non-null    float64\n",
      " 10  HUNDREDS    100 non-null    int64  \n",
      " 11  FIFTY       100 non-null    int64  \n",
      " 12  Fours       100 non-null    int64  \n",
      " 13  Six         100 non-null    int64  \n",
      " 14  HS_not_out  100 non-null    object \n",
      "dtypes: float64(1), int64(11), object(3)\n",
      "memory usage: 10.6+ KB\n"
     ]
    }
   ],
   "source": [
    "df.info()"
   ]
  },
  {
   "cell_type": "code",
   "execution_count": 10,
   "metadata": {},
   "outputs": [
    {
     "data": {
      "text/plain": [
       "Index(['AB_de_Villiers', 'Ajinkya_Rahane', 'Akshdeep_Nath', 'Alzarri_Joseph',\n",
       "       'Ambati_Rayudu', 'Amit_Mishra', 'Andre_Russell', 'Axar_Patel',\n",
       "       'Ben_Cutting', 'Ben_Stokes', 'Bhuvneshwar_Kumar', 'Carlos_Brathwaite',\n",
       "       'Chris_Gayle', 'Chris_Lynn', 'Chris_Morris', 'Colin_Ingram',\n",
       "       'Colin_Munro', 'Colin_de_Grandhomme', 'David_Miller', 'David_Warner',\n",
       "       'Deepak_Hooda', 'Dinesh_Karthik', 'Dwayne_Bravo', 'Evin_Lewis',\n",
       "       'Faf_du_Plessis', 'Gurkeerat_Mann_Singh', 'Hardik_Pandya',\n",
       "       'Harpreet_Brar', 'Ishan_Kishan', 'Ishant_Sharma', 'Jofra_Archer',\n",
       "       'Jonny_Bairstow', 'Jos_Buttler', 'KL_Rahul', 'Kagiso_Rabada',\n",
       "       'Kane_Williamson', 'Kedar_Jadhav', 'Keemo_Paul', 'Kieron_Pollard',\n",
       "       'Krishnappa_Gowtham', 'Krunal_Pandya', 'Kuldeep_Yadav',\n",
       "       'Liam_Livingstone', 'MS_Dhoni', 'Mandeep_Singh', 'Manish_Pandey',\n",
       "       'Marcus_Stoinis', 'Martin_Guptill', 'Mayank_Agarwal',\n",
       "       'Mitchell_McClenaghan', 'Mitchell_Santner', 'Moeen_Ali',\n",
       "       'Mohammad_Nabi', 'Murali_Vijay', 'Nicholas_Pooran', 'Nitish_Rana',\n",
       "       'Parthiv_Patel', 'Pawan_Negi', 'Piyush_Chawla', 'Prayas_Ray_Barman',\n",
       "       'Prithvi_Shaw', 'Quinton_de_Kock', 'Rahul_Chahar', 'Rahul_Tewatia',\n",
       "       'Rahul_Tripathi', 'Rashid_Khan', 'Ravichandran_Ashwin',\n",
       "       'Ravindra_Jadeja', 'Rinku_Singh', 'Rishabh_Pant', 'Riyan_Parag',\n",
       "       'Robin_Uthappa', 'Rohit_Sharma', 'Sam_Curran', 'Sanju_Samson',\n",
       "       'Sarfaraz_Khan', 'Shakib_Al_Hasan', 'Shane_Watson', 'Shardul_Thakur',\n",
       "       'Sherfane_Rutherford', 'Shikhar_Dhawan', 'Shimron_Hetmyer',\n",
       "       'Shivam_Dube', 'Shreyas_Gopal', 'Shreyas_Iyer', 'Shubman_Gill',\n",
       "       'Siddhesh_Lad', 'Simran_Singh', 'Steve_Smith', 'Stuart_Binny',\n",
       "       'Sunil_Narine', 'Suresh_Raina', 'Suryakumar_Yadav', 'Tim_Southee',\n",
       "       'Umesh_Yadav', 'Vijay_Shankar', 'Virat_Kohli', 'Wriddhiman_Saha',\n",
       "       'Yusuf_Pathan', 'Yuvraj_Singh'],\n",
       "      dtype='object')"
      ]
     },
     "execution_count": 10,
     "metadata": {},
     "output_type": "execute_result"
    }
   ],
   "source": [
    "#df[\"PLAYER\"] = pd.Categorical(df[\"PLAYER\"])\n",
    "df_dummies = pd.get_dummies(df.PLAYER)\n",
    "df_dummies.columns"
   ]
  },
  {
   "cell_type": "code",
   "execution_count": 11,
   "metadata": {},
   "outputs": [
    {
     "name": "stdout",
     "output_type": "stream",
     "text": [
      "    AB_de_Villiers  Ajinkya_Rahane  Akshdeep_Nath  Alzarri_Joseph  \\\n",
      "0                0               0              0               0   \n",
      "1                0               0              0               0   \n",
      "2                0               0              0               0   \n",
      "3                0               0              0               0   \n",
      "4                0               0              0               0   \n",
      "..             ...             ...            ...             ...   \n",
      "95               0               0              0               0   \n",
      "96               0               0              0               0   \n",
      "97               0               0              0               0   \n",
      "98               0               0              0               0   \n",
      "99               0               0              0               0   \n",
      "\n",
      "    Ambati_Rayudu  Amit_Mishra  Andre_Russell  Axar_Patel  Ben_Cutting  \\\n",
      "0               0            0              0           0            0   \n",
      "1               0            0              0           0            0   \n",
      "2               0            0              0           0            0   \n",
      "3               0            0              0           0            0   \n",
      "4               0            0              1           0            0   \n",
      "..            ...          ...            ...         ...          ...   \n",
      "95              0            0              0           0            0   \n",
      "96              0            0              0           0            0   \n",
      "97              0            0              0           0            0   \n",
      "98              0            0              0           0            0   \n",
      "99              0            0              0           0            0   \n",
      "\n",
      "    Ben_Stokes  ...  Sunil_Narine  Suresh_Raina  Suryakumar_Yadav  \\\n",
      "0            0  ...             0             0                 0   \n",
      "1            0  ...             0             0                 0   \n",
      "2            0  ...             0             0                 0   \n",
      "3            0  ...             0             0                 0   \n",
      "4            0  ...             0             0                 0   \n",
      "..         ...  ...           ...           ...               ...   \n",
      "95           0  ...             0             0                 0   \n",
      "96           0  ...             0             0                 0   \n",
      "97           0  ...             0             0                 0   \n",
      "98           0  ...             0             0                 0   \n",
      "99           0  ...             0             0                 0   \n",
      "\n",
      "    Tim_Southee  Umesh_Yadav  Vijay_Shankar  Virat_Kohli  Wriddhiman_Saha  \\\n",
      "0             0            0              0            0                0   \n",
      "1             0            0              0            0                0   \n",
      "2             0            0              0            0                0   \n",
      "3             0            0              0            0                0   \n",
      "4             0            0              0            0                0   \n",
      "..          ...          ...            ...          ...              ...   \n",
      "95            0            0              0            0                0   \n",
      "96            0            0              0            0                0   \n",
      "97            0            0              0            0                0   \n",
      "98            0            0              0            0                0   \n",
      "99            1            0              0            0                0   \n",
      "\n",
      "    Yusuf_Pathan  Yuvraj_Singh  \n",
      "0              0             0  \n",
      "1              0             0  \n",
      "2              0             0  \n",
      "3              0             0  \n",
      "4              0             0  \n",
      "..           ...           ...  \n",
      "95             0             0  \n",
      "96             0             0  \n",
      "97             0             0  \n",
      "98             0             0  \n",
      "99             0             0  \n",
      "\n",
      "[100 rows x 100 columns]\n"
     ]
    }
   ],
   "source": [
    "print(df_dummies)"
   ]
  },
  {
   "cell_type": "code",
   "execution_count": 12,
   "metadata": {},
   "outputs": [
    {
     "data": {
      "text/plain": [
       "0     0\n",
       "1     0\n",
       "2     0\n",
       "3     0\n",
       "4     0\n",
       "     ..\n",
       "95    0\n",
       "96    0\n",
       "97    0\n",
       "98    0\n",
       "99    0\n",
       "Name: Yuvraj_Singh, Length: 100, dtype: uint8"
      ]
     },
     "execution_count": 12,
     "metadata": {},
     "output_type": "execute_result"
    }
   ],
   "source": [
    "df_dummies.Yuvraj_Singh"
   ]
  },
  {
   "cell_type": "code",
   "execution_count": 13,
   "metadata": {},
   "outputs": [],
   "source": [
    "df.Avg = df.Avg.astype(float)"
   ]
  },
  {
   "cell_type": "code",
   "execution_count": 14,
   "metadata": {},
   "outputs": [],
   "source": [
    "df[\"Run\"] = df[\"Runs\"]//df[\"Inns\"]"
   ]
  },
  {
   "cell_type": "code",
   "execution_count": 15,
   "metadata": {},
   "outputs": [
    {
     "data": {
      "text/html": [
       "<div>\n",
       "<style scoped>\n",
       "    .dataframe tbody tr th:only-of-type {\n",
       "        vertical-align: middle;\n",
       "    }\n",
       "\n",
       "    .dataframe tbody tr th {\n",
       "        vertical-align: top;\n",
       "    }\n",
       "\n",
       "    .dataframe thead th {\n",
       "        text-align: right;\n",
       "    }\n",
       "</style>\n",
       "<table border=\"1\" class=\"dataframe\">\n",
       "  <thead>\n",
       "    <tr style=\"text-align: right;\">\n",
       "      <th></th>\n",
       "      <th>POS</th>\n",
       "      <th>PLAYER</th>\n",
       "      <th>Mat</th>\n",
       "      <th>Inns</th>\n",
       "      <th>NO</th>\n",
       "      <th>Runs</th>\n",
       "      <th>HS</th>\n",
       "      <th>Avg</th>\n",
       "      <th>BF</th>\n",
       "      <th>SR</th>\n",
       "      <th>HUNDREDS</th>\n",
       "      <th>FIFTY</th>\n",
       "      <th>Fours</th>\n",
       "      <th>Six</th>\n",
       "      <th>HS_not_out</th>\n",
       "      <th>Run</th>\n",
       "    </tr>\n",
       "  </thead>\n",
       "  <tbody>\n",
       "    <tr>\n",
       "      <th>0</th>\n",
       "      <td>1</td>\n",
       "      <td>David_Warner</td>\n",
       "      <td>12</td>\n",
       "      <td>12</td>\n",
       "      <td>2</td>\n",
       "      <td>692</td>\n",
       "      <td>100</td>\n",
       "      <td>69.20</td>\n",
       "      <td>481</td>\n",
       "      <td>143.86</td>\n",
       "      <td>1</td>\n",
       "      <td>8</td>\n",
       "      <td>57</td>\n",
       "      <td>21</td>\n",
       "      <td>100*</td>\n",
       "      <td>57</td>\n",
       "    </tr>\n",
       "    <tr>\n",
       "      <th>1</th>\n",
       "      <td>2</td>\n",
       "      <td>KL_Rahul</td>\n",
       "      <td>14</td>\n",
       "      <td>14</td>\n",
       "      <td>3</td>\n",
       "      <td>593</td>\n",
       "      <td>100</td>\n",
       "      <td>53.90</td>\n",
       "      <td>438</td>\n",
       "      <td>135.38</td>\n",
       "      <td>1</td>\n",
       "      <td>6</td>\n",
       "      <td>49</td>\n",
       "      <td>25</td>\n",
       "      <td>100*</td>\n",
       "      <td>42</td>\n",
       "    </tr>\n",
       "    <tr>\n",
       "      <th>2</th>\n",
       "      <td>3</td>\n",
       "      <td>Quinton_de_Kock</td>\n",
       "      <td>16</td>\n",
       "      <td>16</td>\n",
       "      <td>1</td>\n",
       "      <td>529</td>\n",
       "      <td>81</td>\n",
       "      <td>35.26</td>\n",
       "      <td>398</td>\n",
       "      <td>132.91</td>\n",
       "      <td>0</td>\n",
       "      <td>4</td>\n",
       "      <td>45</td>\n",
       "      <td>25</td>\n",
       "      <td>81</td>\n",
       "      <td>33</td>\n",
       "    </tr>\n",
       "    <tr>\n",
       "      <th>3</th>\n",
       "      <td>4</td>\n",
       "      <td>Shikhar_Dhawan</td>\n",
       "      <td>16</td>\n",
       "      <td>16</td>\n",
       "      <td>1</td>\n",
       "      <td>521</td>\n",
       "      <td>97</td>\n",
       "      <td>34.73</td>\n",
       "      <td>384</td>\n",
       "      <td>135.67</td>\n",
       "      <td>0</td>\n",
       "      <td>5</td>\n",
       "      <td>64</td>\n",
       "      <td>11</td>\n",
       "      <td>97*</td>\n",
       "      <td>32</td>\n",
       "    </tr>\n",
       "    <tr>\n",
       "      <th>4</th>\n",
       "      <td>5</td>\n",
       "      <td>Andre_Russell</td>\n",
       "      <td>14</td>\n",
       "      <td>13</td>\n",
       "      <td>4</td>\n",
       "      <td>510</td>\n",
       "      <td>80</td>\n",
       "      <td>56.66</td>\n",
       "      <td>249</td>\n",
       "      <td>204.81</td>\n",
       "      <td>0</td>\n",
       "      <td>4</td>\n",
       "      <td>31</td>\n",
       "      <td>52</td>\n",
       "      <td>80*</td>\n",
       "      <td>39</td>\n",
       "    </tr>\n",
       "  </tbody>\n",
       "</table>\n",
       "</div>"
      ],
      "text/plain": [
       "   POS           PLAYER  Mat  Inns  NO  Runs   HS    Avg   BF      SR  \\\n",
       "0    1     David_Warner   12    12   2   692  100  69.20  481  143.86   \n",
       "1    2         KL_Rahul   14    14   3   593  100  53.90  438  135.38   \n",
       "2    3  Quinton_de_Kock   16    16   1   529   81  35.26  398  132.91   \n",
       "3    4   Shikhar_Dhawan   16    16   1   521   97  34.73  384  135.67   \n",
       "4    5    Andre_Russell   14    13   4   510   80  56.66  249  204.81   \n",
       "\n",
       "   HUNDREDS  FIFTY  Fours  Six HS_not_out  Run  \n",
       "0         1      8     57   21       100*   57  \n",
       "1         1      6     49   25       100*   42  \n",
       "2         0      4     45   25         81   33  \n",
       "3         0      5     64   11        97*   32  \n",
       "4         0      4     31   52        80*   39  "
      ]
     },
     "execution_count": 15,
     "metadata": {},
     "output_type": "execute_result"
    }
   ],
   "source": [
    "df.head()"
   ]
  },
  {
   "cell_type": "code",
   "execution_count": 16,
   "metadata": {},
   "outputs": [
    {
     "data": {
      "text/html": [
       "<div>\n",
       "<style scoped>\n",
       "    .dataframe tbody tr th:only-of-type {\n",
       "        vertical-align: middle;\n",
       "    }\n",
       "\n",
       "    .dataframe tbody tr th {\n",
       "        vertical-align: top;\n",
       "    }\n",
       "\n",
       "    .dataframe thead th {\n",
       "        text-align: right;\n",
       "    }\n",
       "</style>\n",
       "<table border=\"1\" class=\"dataframe\">\n",
       "  <thead>\n",
       "    <tr style=\"text-align: right;\">\n",
       "      <th></th>\n",
       "      <th>POS</th>\n",
       "      <th>PLAYER</th>\n",
       "      <th>Mat</th>\n",
       "      <th>Inns</th>\n",
       "      <th>NO</th>\n",
       "      <th>Runs</th>\n",
       "      <th>HS</th>\n",
       "      <th>Avg</th>\n",
       "      <th>BF</th>\n",
       "      <th>SR</th>\n",
       "      <th>...</th>\n",
       "      <th>Stuart_Binny</th>\n",
       "      <th>Sunil_Narine</th>\n",
       "      <th>Suresh_Raina</th>\n",
       "      <th>Suryakumar_Yadav</th>\n",
       "      <th>Tim_Southee</th>\n",
       "      <th>Umesh_Yadav</th>\n",
       "      <th>Vijay_Shankar</th>\n",
       "      <th>Virat_Kohli</th>\n",
       "      <th>Wriddhiman_Saha</th>\n",
       "      <th>Yusuf_Pathan</th>\n",
       "    </tr>\n",
       "  </thead>\n",
       "  <tbody>\n",
       "    <tr>\n",
       "      <th>0</th>\n",
       "      <td>1</td>\n",
       "      <td>David_Warner</td>\n",
       "      <td>12</td>\n",
       "      <td>12</td>\n",
       "      <td>2</td>\n",
       "      <td>692</td>\n",
       "      <td>100</td>\n",
       "      <td>69.20</td>\n",
       "      <td>481</td>\n",
       "      <td>143.86</td>\n",
       "      <td>...</td>\n",
       "      <td>0</td>\n",
       "      <td>0</td>\n",
       "      <td>0</td>\n",
       "      <td>0</td>\n",
       "      <td>0</td>\n",
       "      <td>0</td>\n",
       "      <td>0</td>\n",
       "      <td>0</td>\n",
       "      <td>0</td>\n",
       "      <td>0</td>\n",
       "    </tr>\n",
       "    <tr>\n",
       "      <th>1</th>\n",
       "      <td>2</td>\n",
       "      <td>KL_Rahul</td>\n",
       "      <td>14</td>\n",
       "      <td>14</td>\n",
       "      <td>3</td>\n",
       "      <td>593</td>\n",
       "      <td>100</td>\n",
       "      <td>53.90</td>\n",
       "      <td>438</td>\n",
       "      <td>135.38</td>\n",
       "      <td>...</td>\n",
       "      <td>0</td>\n",
       "      <td>0</td>\n",
       "      <td>0</td>\n",
       "      <td>0</td>\n",
       "      <td>0</td>\n",
       "      <td>0</td>\n",
       "      <td>0</td>\n",
       "      <td>0</td>\n",
       "      <td>0</td>\n",
       "      <td>0</td>\n",
       "    </tr>\n",
       "    <tr>\n",
       "      <th>2</th>\n",
       "      <td>3</td>\n",
       "      <td>Quinton_de_Kock</td>\n",
       "      <td>16</td>\n",
       "      <td>16</td>\n",
       "      <td>1</td>\n",
       "      <td>529</td>\n",
       "      <td>81</td>\n",
       "      <td>35.26</td>\n",
       "      <td>398</td>\n",
       "      <td>132.91</td>\n",
       "      <td>...</td>\n",
       "      <td>0</td>\n",
       "      <td>0</td>\n",
       "      <td>0</td>\n",
       "      <td>0</td>\n",
       "      <td>0</td>\n",
       "      <td>0</td>\n",
       "      <td>0</td>\n",
       "      <td>0</td>\n",
       "      <td>0</td>\n",
       "      <td>0</td>\n",
       "    </tr>\n",
       "    <tr>\n",
       "      <th>3</th>\n",
       "      <td>4</td>\n",
       "      <td>Shikhar_Dhawan</td>\n",
       "      <td>16</td>\n",
       "      <td>16</td>\n",
       "      <td>1</td>\n",
       "      <td>521</td>\n",
       "      <td>97</td>\n",
       "      <td>34.73</td>\n",
       "      <td>384</td>\n",
       "      <td>135.67</td>\n",
       "      <td>...</td>\n",
       "      <td>0</td>\n",
       "      <td>0</td>\n",
       "      <td>0</td>\n",
       "      <td>0</td>\n",
       "      <td>0</td>\n",
       "      <td>0</td>\n",
       "      <td>0</td>\n",
       "      <td>0</td>\n",
       "      <td>0</td>\n",
       "      <td>0</td>\n",
       "    </tr>\n",
       "    <tr>\n",
       "      <th>4</th>\n",
       "      <td>5</td>\n",
       "      <td>Andre_Russell</td>\n",
       "      <td>14</td>\n",
       "      <td>13</td>\n",
       "      <td>4</td>\n",
       "      <td>510</td>\n",
       "      <td>80</td>\n",
       "      <td>56.66</td>\n",
       "      <td>249</td>\n",
       "      <td>204.81</td>\n",
       "      <td>...</td>\n",
       "      <td>0</td>\n",
       "      <td>0</td>\n",
       "      <td>0</td>\n",
       "      <td>0</td>\n",
       "      <td>0</td>\n",
       "      <td>0</td>\n",
       "      <td>0</td>\n",
       "      <td>0</td>\n",
       "      <td>0</td>\n",
       "      <td>0</td>\n",
       "    </tr>\n",
       "  </tbody>\n",
       "</table>\n",
       "<p>5 rows × 115 columns</p>\n",
       "</div>"
      ],
      "text/plain": [
       "   POS           PLAYER  Mat  Inns  NO  Runs   HS    Avg   BF      SR  ...  \\\n",
       "0    1     David_Warner   12    12   2   692  100  69.20  481  143.86  ...   \n",
       "1    2         KL_Rahul   14    14   3   593  100  53.90  438  135.38  ...   \n",
       "2    3  Quinton_de_Kock   16    16   1   529   81  35.26  398  132.91  ...   \n",
       "3    4   Shikhar_Dhawan   16    16   1   521   97  34.73  384  135.67  ...   \n",
       "4    5    Andre_Russell   14    13   4   510   80  56.66  249  204.81  ...   \n",
       "\n",
       "   Stuart_Binny  Sunil_Narine  Suresh_Raina  Suryakumar_Yadav Tim_Southee  \\\n",
       "0             0             0             0                 0           0   \n",
       "1             0             0             0                 0           0   \n",
       "2             0             0             0                 0           0   \n",
       "3             0             0             0                 0           0   \n",
       "4             0             0             0                 0           0   \n",
       "\n",
       "   Umesh_Yadav  Vijay_Shankar  Virat_Kohli  Wriddhiman_Saha  Yusuf_Pathan  \n",
       "0            0              0            0                0             0  \n",
       "1            0              0            0                0             0  \n",
       "2            0              0            0                0             0  \n",
       "3            0              0            0                0             0  \n",
       "4            0              0            0                0             0  \n",
       "\n",
       "[5 rows x 115 columns]"
      ]
     },
     "execution_count": 16,
     "metadata": {},
     "output_type": "execute_result"
    }
   ],
   "source": [
    "df1 = pd.concat([df,df_dummies.drop(columns =[\"Yuvraj_Singh\"])],axis='columns')\n",
    "df1.head()\n",
    "df1.head()"
   ]
  },
  {
   "cell_type": "code",
   "execution_count": 17,
   "metadata": {},
   "outputs": [],
   "source": [
    "df2= df1.drop(columns = [\"PLAYER\"])"
   ]
  },
  {
   "cell_type": "code",
   "execution_count": 18,
   "metadata": {},
   "outputs": [
    {
     "data": {
      "text/plain": [
       "0     57\n",
       "1     42\n",
       "2     33\n",
       "3     32\n",
       "4     39\n",
       "      ..\n",
       "95     5\n",
       "96     3\n",
       "97     9\n",
       "98     2\n",
       "99     9\n",
       "Name: Run, Length: 100, dtype: int64"
      ]
     },
     "execution_count": 18,
     "metadata": {},
     "output_type": "execute_result"
    }
   ],
   "source": [
    "df2.Run"
   ]
  },
  {
   "cell_type": "code",
   "execution_count": 19,
   "metadata": {},
   "outputs": [
    {
     "name": "stdout",
     "output_type": "stream",
     "text": [
      "<class 'pandas.core.frame.DataFrame'>\n",
      "RangeIndex: 100 entries, 0 to 99\n",
      "Columns: 114 entries, POS to Yusuf_Pathan\n",
      "dtypes: float64(2), int64(12), object(1), uint8(99)\n",
      "memory usage: 21.1+ KB\n"
     ]
    }
   ],
   "source": [
    "df2.info()"
   ]
  },
  {
   "cell_type": "code",
   "execution_count": 20,
   "metadata": {},
   "outputs": [
    {
     "data": {
      "text/html": [
       "<div>\n",
       "<style scoped>\n",
       "    .dataframe tbody tr th:only-of-type {\n",
       "        vertical-align: middle;\n",
       "    }\n",
       "\n",
       "    .dataframe tbody tr th {\n",
       "        vertical-align: top;\n",
       "    }\n",
       "\n",
       "    .dataframe thead th {\n",
       "        text-align: right;\n",
       "    }\n",
       "</style>\n",
       "<table border=\"1\" class=\"dataframe\">\n",
       "  <thead>\n",
       "    <tr style=\"text-align: right;\">\n",
       "      <th></th>\n",
       "      <th>Avg</th>\n",
       "      <th>BF</th>\n",
       "      <th>SR</th>\n",
       "      <th>Fours</th>\n",
       "      <th>Six</th>\n",
       "      <th>AB_de_Villiers</th>\n",
       "      <th>Ajinkya_Rahane</th>\n",
       "      <th>Akshdeep_Nath</th>\n",
       "      <th>Alzarri_Joseph</th>\n",
       "      <th>Ambati_Rayudu</th>\n",
       "      <th>...</th>\n",
       "      <th>Stuart_Binny</th>\n",
       "      <th>Sunil_Narine</th>\n",
       "      <th>Suresh_Raina</th>\n",
       "      <th>Suryakumar_Yadav</th>\n",
       "      <th>Tim_Southee</th>\n",
       "      <th>Umesh_Yadav</th>\n",
       "      <th>Vijay_Shankar</th>\n",
       "      <th>Virat_Kohli</th>\n",
       "      <th>Wriddhiman_Saha</th>\n",
       "      <th>Yusuf_Pathan</th>\n",
       "    </tr>\n",
       "  </thead>\n",
       "  <tbody>\n",
       "    <tr>\n",
       "      <th>0</th>\n",
       "      <td>69.20</td>\n",
       "      <td>481</td>\n",
       "      <td>143.86</td>\n",
       "      <td>57</td>\n",
       "      <td>21</td>\n",
       "      <td>0</td>\n",
       "      <td>0</td>\n",
       "      <td>0</td>\n",
       "      <td>0</td>\n",
       "      <td>0</td>\n",
       "      <td>...</td>\n",
       "      <td>0</td>\n",
       "      <td>0</td>\n",
       "      <td>0</td>\n",
       "      <td>0</td>\n",
       "      <td>0</td>\n",
       "      <td>0</td>\n",
       "      <td>0</td>\n",
       "      <td>0</td>\n",
       "      <td>0</td>\n",
       "      <td>0</td>\n",
       "    </tr>\n",
       "    <tr>\n",
       "      <th>1</th>\n",
       "      <td>53.90</td>\n",
       "      <td>438</td>\n",
       "      <td>135.38</td>\n",
       "      <td>49</td>\n",
       "      <td>25</td>\n",
       "      <td>0</td>\n",
       "      <td>0</td>\n",
       "      <td>0</td>\n",
       "      <td>0</td>\n",
       "      <td>0</td>\n",
       "      <td>...</td>\n",
       "      <td>0</td>\n",
       "      <td>0</td>\n",
       "      <td>0</td>\n",
       "      <td>0</td>\n",
       "      <td>0</td>\n",
       "      <td>0</td>\n",
       "      <td>0</td>\n",
       "      <td>0</td>\n",
       "      <td>0</td>\n",
       "      <td>0</td>\n",
       "    </tr>\n",
       "    <tr>\n",
       "      <th>2</th>\n",
       "      <td>35.26</td>\n",
       "      <td>398</td>\n",
       "      <td>132.91</td>\n",
       "      <td>45</td>\n",
       "      <td>25</td>\n",
       "      <td>0</td>\n",
       "      <td>0</td>\n",
       "      <td>0</td>\n",
       "      <td>0</td>\n",
       "      <td>0</td>\n",
       "      <td>...</td>\n",
       "      <td>0</td>\n",
       "      <td>0</td>\n",
       "      <td>0</td>\n",
       "      <td>0</td>\n",
       "      <td>0</td>\n",
       "      <td>0</td>\n",
       "      <td>0</td>\n",
       "      <td>0</td>\n",
       "      <td>0</td>\n",
       "      <td>0</td>\n",
       "    </tr>\n",
       "    <tr>\n",
       "      <th>3</th>\n",
       "      <td>34.73</td>\n",
       "      <td>384</td>\n",
       "      <td>135.67</td>\n",
       "      <td>64</td>\n",
       "      <td>11</td>\n",
       "      <td>0</td>\n",
       "      <td>0</td>\n",
       "      <td>0</td>\n",
       "      <td>0</td>\n",
       "      <td>0</td>\n",
       "      <td>...</td>\n",
       "      <td>0</td>\n",
       "      <td>0</td>\n",
       "      <td>0</td>\n",
       "      <td>0</td>\n",
       "      <td>0</td>\n",
       "      <td>0</td>\n",
       "      <td>0</td>\n",
       "      <td>0</td>\n",
       "      <td>0</td>\n",
       "      <td>0</td>\n",
       "    </tr>\n",
       "    <tr>\n",
       "      <th>4</th>\n",
       "      <td>56.66</td>\n",
       "      <td>249</td>\n",
       "      <td>204.81</td>\n",
       "      <td>31</td>\n",
       "      <td>52</td>\n",
       "      <td>0</td>\n",
       "      <td>0</td>\n",
       "      <td>0</td>\n",
       "      <td>0</td>\n",
       "      <td>0</td>\n",
       "      <td>...</td>\n",
       "      <td>0</td>\n",
       "      <td>0</td>\n",
       "      <td>0</td>\n",
       "      <td>0</td>\n",
       "      <td>0</td>\n",
       "      <td>0</td>\n",
       "      <td>0</td>\n",
       "      <td>0</td>\n",
       "      <td>0</td>\n",
       "      <td>0</td>\n",
       "    </tr>\n",
       "  </tbody>\n",
       "</table>\n",
       "<p>5 rows × 104 columns</p>\n",
       "</div>"
      ],
      "text/plain": [
       "     Avg   BF      SR  Fours  Six  AB_de_Villiers  Ajinkya_Rahane  \\\n",
       "0  69.20  481  143.86     57   21               0               0   \n",
       "1  53.90  438  135.38     49   25               0               0   \n",
       "2  35.26  398  132.91     45   25               0               0   \n",
       "3  34.73  384  135.67     64   11               0               0   \n",
       "4  56.66  249  204.81     31   52               0               0   \n",
       "\n",
       "   Akshdeep_Nath  Alzarri_Joseph  Ambati_Rayudu  ...  Stuart_Binny  \\\n",
       "0              0               0              0  ...             0   \n",
       "1              0               0              0  ...             0   \n",
       "2              0               0              0  ...             0   \n",
       "3              0               0              0  ...             0   \n",
       "4              0               0              0  ...             0   \n",
       "\n",
       "   Sunil_Narine  Suresh_Raina  Suryakumar_Yadav  Tim_Southee  Umesh_Yadav  \\\n",
       "0             0             0                 0            0            0   \n",
       "1             0             0                 0            0            0   \n",
       "2             0             0                 0            0            0   \n",
       "3             0             0                 0            0            0   \n",
       "4             0             0                 0            0            0   \n",
       "\n",
       "   Vijay_Shankar  Virat_Kohli  Wriddhiman_Saha  Yusuf_Pathan  \n",
       "0              0            0                0             0  \n",
       "1              0            0                0             0  \n",
       "2              0            0                0             0  \n",
       "3              0            0                0             0  \n",
       "4              0            0                0             0  \n",
       "\n",
       "[5 rows x 104 columns]"
      ]
     },
     "execution_count": 20,
     "metadata": {},
     "output_type": "execute_result"
    }
   ],
   "source": [
    "X = df2.drop(columns = [\"Run\" ,\"Runs\",\"POS\", \"Mat\", \"Inns\",\"NO\",\"HS\",\"HUNDREDS\",\"FIFTY\",\"HS_not_out\"])\n",
    "X.head()"
   ]
  },
  {
   "cell_type": "code",
   "execution_count": 21,
   "metadata": {},
   "outputs": [
    {
     "data": {
      "text/plain": [
       "(100, 104)"
      ]
     },
     "execution_count": 21,
     "metadata": {},
     "output_type": "execute_result"
    }
   ],
   "source": [
    "X.shape"
   ]
  },
  {
   "cell_type": "code",
   "execution_count": 22,
   "metadata": {},
   "outputs": [
    {
     "data": {
      "text/plain": [
       "100"
      ]
     },
     "execution_count": 22,
     "metadata": {},
     "output_type": "execute_result"
    }
   ],
   "source": [
    "Y = df2.Run\n",
    "len(Y)"
   ]
  },
  {
   "cell_type": "code",
   "execution_count": 23,
   "metadata": {},
   "outputs": [],
   "source": [
    "from sklearn.model_selection import train_test_split"
   ]
  },
  {
   "cell_type": "code",
   "execution_count": 24,
   "metadata": {},
   "outputs": [],
   "source": [
    "X_train, X_test, y_train, y_test=train_test_split(X,Y , test_size = 0.2 , random_state = 10)"
   ]
  },
  {
   "cell_type": "code",
   "execution_count": 25,
   "metadata": {},
   "outputs": [
    {
     "data": {
      "text/plain": [
       "(80, 104)"
      ]
     },
     "execution_count": 25,
     "metadata": {},
     "output_type": "execute_result"
    }
   ],
   "source": [
    "X_train.shape"
   ]
  },
  {
   "cell_type": "code",
   "execution_count": 26,
   "metadata": {},
   "outputs": [],
   "source": [
    "from sklearn.linear_model import LinearRegression"
   ]
  },
  {
   "cell_type": "code",
   "execution_count": 27,
   "metadata": {},
   "outputs": [],
   "source": [
    "lr = LinearRegression()"
   ]
  },
  {
   "cell_type": "code",
   "execution_count": 28,
   "metadata": {},
   "outputs": [
    {
     "data": {
      "text/plain": [
       "LinearRegression()"
      ]
     },
     "execution_count": 28,
     "metadata": {},
     "output_type": "execute_result"
    }
   ],
   "source": [
    "lr.fit(X_train, y_train)"
   ]
  },
  {
   "cell_type": "code",
   "execution_count": 29,
   "metadata": {},
   "outputs": [
    {
     "data": {
      "text/plain": [
       "0.5312547417256255"
      ]
     },
     "execution_count": 29,
     "metadata": {},
     "output_type": "execute_result"
    }
   ],
   "source": [
    "lr.score(X_test, y_test)"
   ]
  },
  {
   "cell_type": "code",
   "execution_count": 30,
   "metadata": {},
   "outputs": [
    {
     "data": {
      "text/plain": [
       "1.0"
      ]
     },
     "execution_count": 30,
     "metadata": {},
     "output_type": "execute_result"
    }
   ],
   "source": [
    "lr.score(X_train, y_train)"
   ]
  },
  {
   "cell_type": "code",
   "execution_count": 31,
   "metadata": {},
   "outputs": [
    {
     "data": {
      "text/html": [
       "<div>\n",
       "<style scoped>\n",
       "    .dataframe tbody tr th:only-of-type {\n",
       "        vertical-align: middle;\n",
       "    }\n",
       "\n",
       "    .dataframe tbody tr th {\n",
       "        vertical-align: top;\n",
       "    }\n",
       "\n",
       "    .dataframe thead th {\n",
       "        text-align: right;\n",
       "    }\n",
       "</style>\n",
       "<table border=\"1\" class=\"dataframe\">\n",
       "  <thead>\n",
       "    <tr style=\"text-align: right;\">\n",
       "      <th></th>\n",
       "      <th>Avg</th>\n",
       "      <th>BF</th>\n",
       "      <th>SR</th>\n",
       "      <th>Fours</th>\n",
       "      <th>Six</th>\n",
       "      <th>AB_de_Villiers</th>\n",
       "      <th>Ajinkya_Rahane</th>\n",
       "      <th>Akshdeep_Nath</th>\n",
       "      <th>Alzarri_Joseph</th>\n",
       "      <th>Ambati_Rayudu</th>\n",
       "      <th>...</th>\n",
       "      <th>Sunil_Narine</th>\n",
       "      <th>Suresh_Raina</th>\n",
       "      <th>Suryakumar_Yadav</th>\n",
       "      <th>Tim_Southee</th>\n",
       "      <th>Umesh_Yadav</th>\n",
       "      <th>Vijay_Shankar</th>\n",
       "      <th>Virat_Kohli</th>\n",
       "      <th>Wriddhiman_Saha</th>\n",
       "      <th>Yusuf_Pathan</th>\n",
       "      <th>Run</th>\n",
       "    </tr>\n",
       "  </thead>\n",
       "  <tbody>\n",
       "    <tr>\n",
       "      <th>90</th>\n",
       "      <td>4.66</td>\n",
       "      <td>15</td>\n",
       "      <td>93.33</td>\n",
       "      <td>0</td>\n",
       "      <td>1</td>\n",
       "      <td>0</td>\n",
       "      <td>0</td>\n",
       "      <td>0</td>\n",
       "      <td>0</td>\n",
       "      <td>0</td>\n",
       "      <td>...</td>\n",
       "      <td>0</td>\n",
       "      <td>0</td>\n",
       "      <td>0</td>\n",
       "      <td>0</td>\n",
       "      <td>0</td>\n",
       "      <td>0</td>\n",
       "      <td>0</td>\n",
       "      <td>0</td>\n",
       "      <td>0</td>\n",
       "      <td>3</td>\n",
       "    </tr>\n",
       "    <tr>\n",
       "      <th>70</th>\n",
       "      <td>14.00</td>\n",
       "      <td>37</td>\n",
       "      <td>113.51</td>\n",
       "      <td>4</td>\n",
       "      <td>2</td>\n",
       "      <td>0</td>\n",
       "      <td>0</td>\n",
       "      <td>0</td>\n",
       "      <td>0</td>\n",
       "      <td>0</td>\n",
       "      <td>...</td>\n",
       "      <td>0</td>\n",
       "      <td>0</td>\n",
       "      <td>0</td>\n",
       "      <td>0</td>\n",
       "      <td>0</td>\n",
       "      <td>0</td>\n",
       "      <td>0</td>\n",
       "      <td>0</td>\n",
       "      <td>0</td>\n",
       "      <td>8</td>\n",
       "    </tr>\n",
       "    <tr>\n",
       "      <th>50</th>\n",
       "      <td>35.33</td>\n",
       "      <td>88</td>\n",
       "      <td>120.45</td>\n",
       "      <td>7</td>\n",
       "      <td>4</td>\n",
       "      <td>0</td>\n",
       "      <td>0</td>\n",
       "      <td>0</td>\n",
       "      <td>0</td>\n",
       "      <td>0</td>\n",
       "      <td>...</td>\n",
       "      <td>0</td>\n",
       "      <td>0</td>\n",
       "      <td>0</td>\n",
       "      <td>0</td>\n",
       "      <td>0</td>\n",
       "      <td>0</td>\n",
       "      <td>0</td>\n",
       "      <td>0</td>\n",
       "      <td>0</td>\n",
       "      <td>11</td>\n",
       "    </tr>\n",
       "    <tr>\n",
       "      <th>44</th>\n",
       "      <td>22.28</td>\n",
       "      <td>130</td>\n",
       "      <td>120.00</td>\n",
       "      <td>12</td>\n",
       "      <td>5</td>\n",
       "      <td>0</td>\n",
       "      <td>0</td>\n",
       "      <td>0</td>\n",
       "      <td>0</td>\n",
       "      <td>0</td>\n",
       "      <td>...</td>\n",
       "      <td>0</td>\n",
       "      <td>0</td>\n",
       "      <td>0</td>\n",
       "      <td>0</td>\n",
       "      <td>0</td>\n",
       "      <td>0</td>\n",
       "      <td>0</td>\n",
       "      <td>0</td>\n",
       "      <td>0</td>\n",
       "      <td>17</td>\n",
       "    </tr>\n",
       "    <tr>\n",
       "      <th>76</th>\n",
       "      <td>5.33</td>\n",
       "      <td>37</td>\n",
       "      <td>86.48</td>\n",
       "      <td>1</td>\n",
       "      <td>2</td>\n",
       "      <td>0</td>\n",
       "      <td>0</td>\n",
       "      <td>0</td>\n",
       "      <td>0</td>\n",
       "      <td>0</td>\n",
       "      <td>...</td>\n",
       "      <td>0</td>\n",
       "      <td>0</td>\n",
       "      <td>0</td>\n",
       "      <td>0</td>\n",
       "      <td>0</td>\n",
       "      <td>0</td>\n",
       "      <td>0</td>\n",
       "      <td>0</td>\n",
       "      <td>0</td>\n",
       "      <td>5</td>\n",
       "    </tr>\n",
       "  </tbody>\n",
       "</table>\n",
       "<p>5 rows × 105 columns</p>\n",
       "</div>"
      ],
      "text/plain": [
       "      Avg   BF      SR  Fours  Six  AB_de_Villiers  Ajinkya_Rahane  \\\n",
       "90   4.66   15   93.33      0    1               0               0   \n",
       "70  14.00   37  113.51      4    2               0               0   \n",
       "50  35.33   88  120.45      7    4               0               0   \n",
       "44  22.28  130  120.00     12    5               0               0   \n",
       "76   5.33   37   86.48      1    2               0               0   \n",
       "\n",
       "    Akshdeep_Nath  Alzarri_Joseph  Ambati_Rayudu  ...  Sunil_Narine  \\\n",
       "90              0               0              0  ...             0   \n",
       "70              0               0              0  ...             0   \n",
       "50              0               0              0  ...             0   \n",
       "44              0               0              0  ...             0   \n",
       "76              0               0              0  ...             0   \n",
       "\n",
       "    Suresh_Raina  Suryakumar_Yadav  Tim_Southee  Umesh_Yadav  Vijay_Shankar  \\\n",
       "90             0                 0            0            0              0   \n",
       "70             0                 0            0            0              0   \n",
       "50             0                 0            0            0              0   \n",
       "44             0                 0            0            0              0   \n",
       "76             0                 0            0            0              0   \n",
       "\n",
       "    Virat_Kohli  Wriddhiman_Saha  Yusuf_Pathan  Run  \n",
       "90            0                0             0    3  \n",
       "70            0                0             0    8  \n",
       "50            0                0             0   11  \n",
       "44            0                0             0   17  \n",
       "76            0                0             0    5  \n",
       "\n",
       "[5 rows x 105 columns]"
      ]
     },
     "execution_count": 31,
     "metadata": {},
     "output_type": "execute_result"
    }
   ],
   "source": [
    "data_train = pd.concat([X_train, y_train], axis=1)\n",
    "data_train.head()"
   ]
  },
  {
   "cell_type": "code",
   "execution_count": 32,
   "metadata": {},
   "outputs": [
    {
     "data": {
      "text/plain": [
       "Index(['Avg', 'BF', 'SR', 'Fours', 'Six', 'AB_de_Villiers', 'Ajinkya_Rahane',\n",
       "       'Akshdeep_Nath', 'Alzarri_Joseph', 'Ambati_Rayudu',\n",
       "       ...\n",
       "       'Stuart_Binny', 'Sunil_Narine', 'Suresh_Raina', 'Suryakumar_Yadav',\n",
       "       'Tim_Southee', 'Umesh_Yadav', 'Vijay_Shankar', 'Virat_Kohli',\n",
       "       'Wriddhiman_Saha', 'Yusuf_Pathan'],\n",
       "      dtype='object', length=104)"
      ]
     },
     "execution_count": 32,
     "metadata": {},
     "output_type": "execute_result"
    }
   ],
   "source": [
    "X_train.columns"
   ]
  },
  {
   "cell_type": "code",
   "execution_count": 33,
   "metadata": {},
   "outputs": [],
   "source": [
    "import statsmodels.formula.api as smf"
   ]
  },
  {
   "cell_type": "code",
   "execution_count": 34,
   "metadata": {},
   "outputs": [
    {
     "data": {
      "text/plain": [
       "Intercept    1.412969\n",
       "Avg          0.371850\n",
       "BF           0.041344\n",
       "SR           0.021146\n",
       "dtype: float64"
      ]
     },
     "execution_count": 34,
     "metadata": {},
     "output_type": "execute_result"
    }
   ],
   "source": [
    "lm1 = smf.ols(formula= 'Run ~ Avg+BF+SR', data = data_train).fit()\n",
    "lm1.params"
   ]
  },
  {
   "cell_type": "code",
   "execution_count": 35,
   "metadata": {},
   "outputs": [
    {
     "name": "stdout",
     "output_type": "stream",
     "text": [
      "                            OLS Regression Results                            \n",
      "==============================================================================\n",
      "Dep. Variable:                    Run   R-squared:                       0.795\n",
      "Model:                            OLS   Adj. R-squared:                  0.787\n",
      "Method:                 Least Squares   F-statistic:                     98.21\n",
      "Date:                Sun, 02 May 2021   Prob (F-statistic):           4.47e-26\n",
      "Time:                        13:18:55   Log-Likelihood:                -245.60\n",
      "No. Observations:                  80   AIC:                             499.2\n",
      "Df Residuals:                      76   BIC:                             508.7\n",
      "Df Model:                           3                                         \n",
      "Covariance Type:            nonrobust                                         \n",
      "==============================================================================\n",
      "                 coef    std err          t      P>|t|      [0.025      0.975]\n",
      "------------------------------------------------------------------------------\n",
      "Intercept      1.4130      2.202      0.642      0.523      -2.972       5.798\n",
      "Avg            0.3719      0.058      6.441      0.000       0.257       0.487\n",
      "BF             0.0413      0.008      5.467      0.000       0.026       0.056\n",
      "SR             0.0211      0.017      1.271      0.208      -0.012       0.054\n",
      "==============================================================================\n",
      "Omnibus:                        3.319   Durbin-Watson:                   2.151\n",
      "Prob(Omnibus):                  0.190   Jarque-Bera (JB):                2.546\n",
      "Skew:                           0.367   Prob(JB):                        0.280\n",
      "Kurtosis:                       3.474   Cond. No.                         778.\n",
      "==============================================================================\n",
      "\n",
      "Notes:\n",
      "[1] Standard Errors assume that the covariance matrix of the errors is correctly specified.\n"
     ]
    }
   ],
   "source": [
    "print(lm1.summary())"
   ]
  },
  {
   "cell_type": "code",
   "execution_count": 36,
   "metadata": {},
   "outputs": [],
   "source": [
    "from sklearn.model_selection import ShuffleSplit\n",
    "from sklearn.model_selection import cross_val_score"
   ]
  },
  {
   "cell_type": "code",
   "execution_count": 37,
   "metadata": {},
   "outputs": [
    {
     "data": {
      "text/plain": [
       "array([ 0.53388675,  0.35383267, -0.22090161,  0.46057196,  0.53597132])"
      ]
     },
     "execution_count": 37,
     "metadata": {},
     "output_type": "execute_result"
    }
   ],
   "source": [
    "cv = ShuffleSplit(n_splits=5, test_size=0.2, random_state=0)\n",
    "\n",
    "cross_val_score(LinearRegression(), X, Y, cv=cv)"
   ]
  },
  {
   "cell_type": "code",
   "execution_count": 38,
   "metadata": {},
   "outputs": [],
   "source": [
    "def predict_run(PLAYER, Avg, BF, SR,Fours, Six):    \n",
    "    loc_index = np.where(X.columns==PLAYER)[0][0]\n",
    "\n",
    "    x = np.zeros(len(X.columns))\n",
    "    x[0] = Avg\n",
    "    x[1] = BF\n",
    "    x[2] = SR\n",
    "    x[3] = Fours\n",
    "    x[4] = Six\n",
    "    if loc_index >= 0:\n",
    "        x[loc_index] = 1\n",
    "    return round (lr.predict([x])[0])"
   ]
  },
  {
   "cell_type": "code",
   "execution_count": 42,
   "metadata": {},
   "outputs": [
    {
     "data": {
      "text/plain": [
       "63.0"
      ]
     },
     "execution_count": 42,
     "metadata": {},
     "output_type": "execute_result"
    }
   ],
   "source": [
    "predict_run(\"KL_Rahul\", 80,20,125,10,4)"
   ]
  },
  {
   "cell_type": "code",
   "execution_count": 40,
   "metadata": {},
   "outputs": [
    {
     "name": "stdout",
     "output_type": "stream",
     "text": [
      "Model dumped!\n",
      "Models columns dumped!\n"
     ]
    }
   ],
   "source": [
    "import joblib\n",
    "joblib.dump(lr, 'model.pkl')\n",
    "print(\"Model dumped!\")\n",
    "\n",
    "# Load the model that you just saved\n",
    "lr = joblib.load('model.pkl')\n",
    "\n",
    "# Saving the data columns from training\n",
    "model_columns = list(X.columns)\n",
    "joblib.dump(model_columns, 'model_columns.pkl')\n",
    "print(\"Models columns dumped!\")"
   ]
  },
  {
   "cell_type": "code",
   "execution_count": 43,
   "metadata": {},
   "outputs": [],
   "source": [
    "import json\n",
    "columns = {\n",
    "    'data_columns' : [col.lower() for col in X.columns]\n",
    "}\n",
    "with open(\"columns.json\",\"w\") as f:\n",
    "    f.write(json.dumps(columns))"
   ]
  },
  {
   "cell_type": "code",
   "execution_count": 44,
   "metadata": {},
   "outputs": [],
   "source": [
    "import pickle\n",
    "with open('ipl_individual.pickle','wb') as f:\n",
    "    pickle.dump(lr,f)"
   ]
  },
  {
   "cell_type": "code",
   "execution_count": null,
   "metadata": {},
   "outputs": [],
   "source": []
  }
 ],
 "metadata": {
  "kernelspec": {
   "display_name": "Python 3",
   "language": "python",
   "name": "python3"
  },
  "language_info": {
   "codemirror_mode": {
    "name": "ipython",
    "version": 3
   },
   "file_extension": ".py",
   "mimetype": "text/x-python",
   "name": "python",
   "nbconvert_exporter": "python",
   "pygments_lexer": "ipython3",
   "version": "3.6.8"
  }
 },
 "nbformat": 4,
 "nbformat_minor": 4
}
